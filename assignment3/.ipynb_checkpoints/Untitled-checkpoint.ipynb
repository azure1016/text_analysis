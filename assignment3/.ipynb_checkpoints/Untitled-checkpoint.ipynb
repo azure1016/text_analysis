{
 "cells": [
  {
   "cell_type": "code",
   "execution_count": 2,
   "metadata": {},
   "outputs": [
    {
     "ename": "ModuleNotFoundError",
     "evalue": "No module named 'gensim'",
     "output_type": "error",
     "traceback": [
      "\u001b[0;31m---------------------------------------------------------------------------\u001b[0m",
      "\u001b[0;31mModuleNotFoundError\u001b[0m                       Traceback (most recent call last)",
      "\u001b[0;32m<ipython-input-2-babf16af0941>\u001b[0m in \u001b[0;36m<module>\u001b[0;34m\u001b[0m\n\u001b[0;32m----> 1\u001b[0;31m \u001b[0;32mfrom\u001b[0m \u001b[0mgensim\u001b[0m\u001b[0;34m.\u001b[0m\u001b[0mmodels\u001b[0m \u001b[0;32mimport\u001b[0m \u001b[0mWord2Vec\u001b[0m\u001b[0;34m\u001b[0m\u001b[0;34m\u001b[0m\u001b[0m\n\u001b[0m\u001b[1;32m      2\u001b[0m \u001b[0;32mimport\u001b[0m \u001b[0mpandas\u001b[0m \u001b[0;32mas\u001b[0m \u001b[0mpd\u001b[0m\u001b[0;34m\u001b[0m\u001b[0;34m\u001b[0m\u001b[0m\n\u001b[1;32m      3\u001b[0m \u001b[0;32mimport\u001b[0m \u001b[0mnumpy\u001b[0m \u001b[0;32mas\u001b[0m \u001b[0mnp\u001b[0m\u001b[0;34m\u001b[0m\u001b[0;34m\u001b[0m\u001b[0m\n\u001b[1;32m      4\u001b[0m \u001b[0;34m\u001b[0m\u001b[0m\n\u001b[1;32m      5\u001b[0m \u001b[0;32mdef\u001b[0m \u001b[0mread_data\u001b[0m\u001b[0;34m(\u001b[0m\u001b[0mpath_dict\u001b[0m\u001b[0;34m)\u001b[0m\u001b[0;34m:\u001b[0m\u001b[0;34m\u001b[0m\u001b[0;34m\u001b[0m\u001b[0m\n",
      "\u001b[0;31mModuleNotFoundError\u001b[0m: No module named 'gensim'"
     ]
    }
   ],
   "source": [
    "from gensim.models import Word2Vec\n",
    "import pandas as pd\n",
    "import numpy as np\n",
    "\n",
    "def read_data(path_dict):\n",
    "    df_dict = {}\n",
    "    for name, path in path_dict.items():\n",
    "        df_dict[name] = pd.read_csv(path, sep = 'delimiter',header = None)\n",
    "    return df_dict\n",
    "\n",
    "def concat_to_sentences(word2d_dict):\n",
    "    sentences_list_dict = {}\n",
    "    for name, lst in word2d_dict.items():\n",
    "        stc_list = []\n",
    "        for line in lst:\n",
    "            stc_list.append(\"\".join(line))\n",
    "            #something = \" \".join(line)\n",
    "            #print(line)\n",
    "        sentences_list_dict[name] = stc_list\n",
    "    return sentences_list_dict"
   ]
  },
  {
   "cell_type": "code",
   "execution_count": null,
   "metadata": {},
   "outputs": [],
   "source": [
    "dp = \"../assignment1/\"\n",
    "ddp = dp +\"pos_gen/\"\n",
    "ddn = dp +\"neg_gen/\"\n",
    "\n",
    "pos_test_path = ddp + \"test.csv\"\n",
    "pos_train_path = ddp + \"train.csv\"\n",
    "pos_val_path = ddp + \"val.csv\"\n",
    "pos_test_no_stopword = ddp + \"test_no_stopword.csv\"\n",
    "pos_train_no_stopword = ddp + \"train_no_stopword.csv\"\n",
    "pos_val_no_stopword = ddp + \"val_no_stopword.csv\"\n",
    "\n",
    "neg_test_path = ddn+ \"test.csv\"\n",
    "neg_train_path = ddn + \"train.csv\"\n",
    "neg_val_path = ddn + \"val.csv\"\n",
    "neg_test_no_stopword = ddn + \"test_no_stopword.csv\"\n",
    "neg_train_no_stopword = ddn + \"train_no_stopword.csv\"\n",
    "neg_val_no_stopword = ddn + \"val_no_stopword.csv\"\n",
    "\n",
    "path_dict = {'pos_test':pos_test_path,\n",
    "'pos_train':  pos_train_path,\n",
    "'pos_val': pos_val_path,\n",
    "'pos_test_no_stopword': pos_test_no_stopword,\n",
    "'pos_train_no_stopword': pos_train_no_stopword,\n",
    "'pos_val_no_stopword': pos_val_no_stopword,\n",
    "'neg_test': neg_test_path,\n",
    "'neg_train': neg_train_path,\n",
    "'neg_val': neg_val_path,\n",
    "'neg_test_no_stopword': neg_test_no_stopword,\n",
    "'neg_train_no_stopword': neg_train_no_stopword,\n",
    "'neg_val_no_stopword': neg_val_no_stopword\n",
    "            }\n"
   ]
  },
  {
   "cell_type": "code",
   "execution_count": 1,
   "metadata": {},
   "outputs": [
    {
     "ename": "NameError",
     "evalue": "name 'read_data' is not defined",
     "output_type": "error",
     "traceback": [
      "\u001b[0;31m---------------------------------------------------------------------------\u001b[0m",
      "\u001b[0;31mNameError\u001b[0m                                 Traceback (most recent call last)",
      "\u001b[0;32m<ipython-input-1-f258eef266f9>\u001b[0m in \u001b[0;36m<module>\u001b[0;34m\u001b[0m\n\u001b[0;32m----> 1\u001b[0;31m \u001b[0mdf_dict\u001b[0m \u001b[0;34m=\u001b[0m \u001b[0mread_data\u001b[0m\u001b[0;34m(\u001b[0m\u001b[0mpath_dict\u001b[0m\u001b[0;34m)\u001b[0m\u001b[0;34m\u001b[0m\u001b[0;34m\u001b[0m\u001b[0m\n\u001b[0m\u001b[1;32m      2\u001b[0m \u001b[0;34m\u001b[0m\u001b[0m\n\u001b[1;32m      3\u001b[0m \u001b[0;31m# assign labels for sentences.\u001b[0m\u001b[0;34m\u001b[0m\u001b[0;34m\u001b[0m\u001b[0;34m\u001b[0m\u001b[0m\n\u001b[1;32m      4\u001b[0m \u001b[0;32mfor\u001b[0m \u001b[0mname\u001b[0m\u001b[0;34m,\u001b[0m \u001b[0mdf\u001b[0m \u001b[0;32min\u001b[0m \u001b[0mdf_dict\u001b[0m\u001b[0;34m.\u001b[0m\u001b[0mitems\u001b[0m\u001b[0;34m(\u001b[0m\u001b[0;34m)\u001b[0m\u001b[0;34m:\u001b[0m\u001b[0;34m\u001b[0m\u001b[0;34m\u001b[0m\u001b[0m\n\u001b[1;32m      5\u001b[0m     \u001b[0;32mif\u001b[0m \u001b[0mname\u001b[0m\u001b[0;34m.\u001b[0m\u001b[0mstartswith\u001b[0m\u001b[0;34m(\u001b[0m\u001b[0;34m\"pos\"\u001b[0m\u001b[0;34m)\u001b[0m\u001b[0;34m:\u001b[0m\u001b[0;34m\u001b[0m\u001b[0;34m\u001b[0m\u001b[0m\n",
      "\u001b[0;31mNameError\u001b[0m: name 'read_data' is not defined"
     ]
    }
   ],
   "source": [
    "df_dict = read_data(path_dict)\n",
    "\n",
    "# assign labels for sentences.\n",
    "for name, df in df_dict.items():\n",
    "    if name.startswith(\"pos\"):\n",
    "        df['target'] = pd.Series(1, index = df.index)\n",
    "#         print(df.shape)\n",
    "    else:\n",
    "        df['target'] = pd.Series(0, index = df.index)\n",
    "        \n",
    "# merge neg dataframe and pos dataframe\n",
    "merged_df_dict = {}\n",
    "merged_df_dict['train'] = pd.concat([df_dict['neg_train'],df_dict[\"pos_train\"]]).reset_index(drop=True)\n",
    "merged_df_dict['val'] = pd.concat([df_dict['neg_val'],df_dict[\"pos_val\"]]).reset_index(drop=True)\n",
    "merged_df_dict['test'] = pd.concat([df_dict['neg_test'],df_dict[\"pos_test\"]]).reset_index(drop=True)\n",
    "merged_df_dict['train_no_stopword'] = pd.concat([df_dict['neg_train_no_stopword'],df_dict[\"pos_train_no_stopword\"]]).reset_index(drop=True)\n",
    "merged_df_dict['test_no_stopword'] = pd.concat([df_dict['neg_test_no_stopword'],df_dict[\"pos_test_no_stopword\"]]).reset_index(drop=True)\n",
    "merged_df_dict['val_no_stopword'] = pd.concat([df_dict['neg_val_no_stopword'],df_dict[\"pos_val_no_stopword\"]]).reset_index(drop=True)\n",
    "\n",
    "\n",
    "# In[128]:\n",
    "train_list = merged_df_dict['train'].iloc[:,0].values.tolist()\n",
    "train_no_stopword_list = merged_df_dict['train_no_stopword'].iloc[:,0].values.tolist()\n",
    "\n",
    "val_list = merged_df_dict['val'].iloc[:,0].values.tolist()\n",
    "val_no_stopword_list = merged_df_dict['val_no_stopword'].iloc[:,0].values.tolist()\n",
    "\n",
    "test_list = merged_df_dict['test'].iloc[:,0].values.tolist()\n",
    "test_no_stopword_list = merged_df_dict['test_no_stopword'].iloc[:,0].values.tolist()\n",
    "\n",
    "word2d_dict = {\"train\": train_list,\n",
    "            \"test\": test_list,\n",
    "            \"val\": val_list,\n",
    "            \"train_no_stopword\": train_no_stopword_list,\n",
    "            \"test_no_stopword\": test_no_stopword_list,\n",
    "            \"val_no_stopword\": val_no_stopword_list}\n",
    "\n",
    "list_dict = concat_to_sentences(word2d_dict)"
   ]
  },
  {
   "cell_type": "code",
   "execution_count": null,
   "metadata": {},
   "outputs": [],
   "source": []
  }
 ],
 "metadata": {
  "kernelspec": {
   "display_name": "Python 3",
   "language": "python",
   "name": "python3"
  },
  "language_info": {
   "codemirror_mode": {
    "name": "ipython",
    "version": 3
   },
   "file_extension": ".py",
   "mimetype": "text/x-python",
   "name": "python",
   "nbconvert_exporter": "python",
   "pygments_lexer": "ipython3",
   "version": "3.6.8"
  }
 },
 "nbformat": 4,
 "nbformat_minor": 2
}
