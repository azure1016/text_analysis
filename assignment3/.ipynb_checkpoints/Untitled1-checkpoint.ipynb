{
 "cells": [
  {
   "cell_type": "code",
   "execution_count": 6,
   "metadata": {},
   "outputs": [],
   "source": [
    "from gensim.models import Word2Vec\n",
    "import re"
   ]
  },
  {
   "cell_type": "code",
   "execution_count": 7,
   "metadata": {},
   "outputs": [],
   "source": [
    "def remove_special_characters(line):\n",
    "    # pattern = '[!\"#$%&\\(\\)*+/:：（）？?;<=>@\\[\\]^`\\{\\|\\}~\\t\\n]+'\n",
    "    pattern = '[^a-zA-Z0-9,.\\']+'\n",
    "    new_line = re.sub(pattern, \" \", line.lower())\n",
    "    return new_line\n",
    "\n",
    "#tokenize and lowercase the characters\n",
    "def tokenize(line):\n",
    "    split_by_quote = line.replace('\\'', ' ').replace('.', \" . \").replace(',', \" , \").replace('-', ' - ').split()\n",
    "    return split_by_quote\n",
    "    "
   ]
  },
  {
   "cell_type": "code",
   "execution_count": 8,
   "metadata": {},
   "outputs": [],
   "source": [
    "raw = []\n",
    "for path in [\"/Users/liujinjian/Documents/msci641/text_analysis/data/neg.txt\", \"/Users/liujinjian/Documents/msci641/text_analysis/data/pos.txt\"]:\n",
    "    raw += open(path, \"r\").readlines()\n",
    "tokens = []\n",
    "for line in raw:\n",
    "    toks = tokenize(remove_special_characters(line))\n",
    "    tokens.append(toks)"
   ]
  },
  {
   "cell_type": "code",
   "execution_count": 12,
   "metadata": {},
   "outputs": [],
   "source": [
    "model = Word2Vec(tokens, min_count = 1, size = 200)\n",
    "model.save(\"model.bin\")"
   ]
  },
  {
   "cell_type": "code",
   "execution_count": null,
   "metadata": {},
   "outputs": [],
   "source": [
    "model = Word2Vec.load(\"model.bin\")"
   ]
  },
  {
   "cell_type": "code",
   "execution_count": 18,
   "metadata": {},
   "outputs": [
    {
     "name": "stderr",
     "output_type": "stream",
     "text": [
      "/usr/local/lib/python3.7/site-packages/ipykernel_launcher.py:1: DeprecationWarning: Call to deprecated `similar_by_word` (Method will be removed in 4.0.0, use self.wv.similar_by_word() instead).\n",
      "  \"\"\"Entry point for launching an IPython kernel.\n",
      "/usr/local/lib/python3.7/site-packages/ipykernel_launcher.py:2: DeprecationWarning: Call to deprecated `similar_by_word` (Method will be removed in 4.0.0, use self.wv.similar_by_word() instead).\n",
      "  \n"
     ]
    }
   ],
   "source": [
    "good_similar = model.similar_by_word(\"good\", 20)\n",
    "bad_similar = model.similar_by_word(\"bad\", 20)"
   ]
  },
  {
   "cell_type": "code",
   "execution_count": 19,
   "metadata": {},
   "outputs": [
    {
     "name": "stdout",
     "output_type": "stream",
     "text": [
      "[('decent', 0.7779346704483032), ('great', 0.7528027296066284), ('fantastic', 0.6970811486244202), ('nice', 0.6816263198852539), ('terrific', 0.6792171001434326), ('superb', 0.650017261505127), ('wonderful', 0.6425809264183044), ('fabulous', 0.6352533102035522), ('excellent', 0.6179133057594299), ('impressive', 0.616286039352417), ('bad', 0.6086660623550415), ('terrible', 0.5855109691619873), ('poor', 0.5806623101234436), ('amazing', 0.5794503092765808), ('reasonable', 0.577659547328949), ('neat', 0.565698504447937), ('awesome', 0.5646282434463501), ('perfect', 0.5608898997306824), ('lovely', 0.5608691573143005), ('okay', 0.5586907863616943)]\n"
     ]
    }
   ],
   "source": [
    "print(good_similar)"
   ]
  },
  {
   "cell_type": "code",
   "execution_count": 20,
   "metadata": {},
   "outputs": [
    {
     "name": "stdout",
     "output_type": "stream",
     "text": [
      "[('horrible', 0.6378484964370728), ('terrible', 0.6372288465499878), ('good', 0.6086660623550415), ('awful', 0.5688295364379883), ('funny', 0.561049222946167), ('scary', 0.550094485282898), ('weird', 0.5391566753387451), ('poor', 0.5382457971572876), ('obvious', 0.5373699069023132), ('strange', 0.532866358757019), ('nasty', 0.532535195350647), ('harsh', 0.5319207906723022), ('fake', 0.5297530889511108), ('lame', 0.5228519439697266), ('gross', 0.5213274955749512), ('crappy', 0.520595908164978), ('weak', 0.5141754150390625), ('lousy', 0.5139629244804382), ('stupid', 0.5110210180282593), ('horrid', 0.4936883747577667)]\n"
     ]
    }
   ],
   "source": [
    "print(bad_similar)"
   ]
  },
  {
   "cell_type": "code",
   "execution_count": null,
   "metadata": {},
   "outputs": [],
   "source": []
  }
 ],
 "metadata": {
  "kernelspec": {
   "display_name": "Python 3",
   "language": "python",
   "name": "python3"
  },
  "language_info": {
   "codemirror_mode": {
    "name": "ipython",
    "version": 3
   },
   "file_extension": ".py",
   "mimetype": "text/x-python",
   "name": "python",
   "nbconvert_exporter": "python",
   "pygments_lexer": "ipython3",
   "version": "3.7.3"
  }
 },
 "nbformat": 4,
 "nbformat_minor": 2
}
